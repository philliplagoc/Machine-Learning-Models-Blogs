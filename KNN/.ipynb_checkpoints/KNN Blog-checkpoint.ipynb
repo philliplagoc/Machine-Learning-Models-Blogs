{
 "cells": [
  {
   "cell_type": "code",
   "execution_count": 1,
   "metadata": {},
   "outputs": [],
   "source": [
    "import pandas as pd\n",
    "import numpy as np\n",
    "import matplotlib.pyplot as plt\n",
    "from scipy import stats\n",
    "import seaborn as sns"
   ]
  },
  {
   "cell_type": "code",
   "execution_count": 2,
   "metadata": {},
   "outputs": [
    {
     "data": {
      "text/html": [
       "<div>\n",
       "<style scoped>\n",
       "    .dataframe tbody tr th:only-of-type {\n",
       "        vertical-align: middle;\n",
       "    }\n",
       "\n",
       "    .dataframe tbody tr th {\n",
       "        vertical-align: top;\n",
       "    }\n",
       "\n",
       "    .dataframe thead th {\n",
       "        text-align: right;\n",
       "    }\n",
       "</style>\n",
       "<table border=\"1\" class=\"dataframe\">\n",
       "  <thead>\n",
       "    <tr style=\"text-align: right;\">\n",
       "      <th></th>\n",
       "      <th>id</th>\n",
       "      <th>female</th>\n",
       "      <th>ses</th>\n",
       "      <th>schtyp</th>\n",
       "      <th>prog</th>\n",
       "      <th>read</th>\n",
       "      <th>write</th>\n",
       "      <th>math</th>\n",
       "      <th>science</th>\n",
       "      <th>socst</th>\n",
       "      <th>honors</th>\n",
       "      <th>awards</th>\n",
       "      <th>cid</th>\n",
       "    </tr>\n",
       "  </thead>\n",
       "  <tbody>\n",
       "    <tr>\n",
       "      <th>0</th>\n",
       "      <td>45.0</td>\n",
       "      <td>female</td>\n",
       "      <td>low</td>\n",
       "      <td>public</td>\n",
       "      <td>vocation</td>\n",
       "      <td>34.0</td>\n",
       "      <td>35.0</td>\n",
       "      <td>41.0</td>\n",
       "      <td>29.0</td>\n",
       "      <td>26.0</td>\n",
       "      <td>not enrolled</td>\n",
       "      <td>0.0</td>\n",
       "      <td>1</td>\n",
       "    </tr>\n",
       "    <tr>\n",
       "      <th>1</th>\n",
       "      <td>108.0</td>\n",
       "      <td>male</td>\n",
       "      <td>middle</td>\n",
       "      <td>public</td>\n",
       "      <td>general</td>\n",
       "      <td>34.0</td>\n",
       "      <td>33.0</td>\n",
       "      <td>41.0</td>\n",
       "      <td>36.0</td>\n",
       "      <td>36.0</td>\n",
       "      <td>not enrolled</td>\n",
       "      <td>0.0</td>\n",
       "      <td>1</td>\n",
       "    </tr>\n",
       "    <tr>\n",
       "      <th>2</th>\n",
       "      <td>15.0</td>\n",
       "      <td>male</td>\n",
       "      <td>high</td>\n",
       "      <td>public</td>\n",
       "      <td>vocation</td>\n",
       "      <td>39.0</td>\n",
       "      <td>39.0</td>\n",
       "      <td>44.0</td>\n",
       "      <td>26.0</td>\n",
       "      <td>42.0</td>\n",
       "      <td>not enrolled</td>\n",
       "      <td>0.0</td>\n",
       "      <td>1</td>\n",
       "    </tr>\n",
       "    <tr>\n",
       "      <th>3</th>\n",
       "      <td>67.0</td>\n",
       "      <td>male</td>\n",
       "      <td>low</td>\n",
       "      <td>public</td>\n",
       "      <td>vocation</td>\n",
       "      <td>37.0</td>\n",
       "      <td>37.0</td>\n",
       "      <td>42.0</td>\n",
       "      <td>33.0</td>\n",
       "      <td>32.0</td>\n",
       "      <td>not enrolled</td>\n",
       "      <td>0.0</td>\n",
       "      <td>1</td>\n",
       "    </tr>\n",
       "    <tr>\n",
       "      <th>4</th>\n",
       "      <td>153.0</td>\n",
       "      <td>male</td>\n",
       "      <td>middle</td>\n",
       "      <td>public</td>\n",
       "      <td>vocation</td>\n",
       "      <td>39.0</td>\n",
       "      <td>31.0</td>\n",
       "      <td>40.0</td>\n",
       "      <td>39.0</td>\n",
       "      <td>51.0</td>\n",
       "      <td>not enrolled</td>\n",
       "      <td>0.0</td>\n",
       "      <td>1</td>\n",
       "    </tr>\n",
       "  </tbody>\n",
       "</table>\n",
       "</div>"
      ],
      "text/plain": [
       "      id  female     ses  schtyp      prog  read  write  math  science  socst  \\\n",
       "0   45.0  female     low  public  vocation  34.0   35.0  41.0     29.0   26.0   \n",
       "1  108.0    male  middle  public   general  34.0   33.0  41.0     36.0   36.0   \n",
       "2   15.0    male    high  public  vocation  39.0   39.0  44.0     26.0   42.0   \n",
       "3   67.0    male     low  public  vocation  37.0   37.0  42.0     33.0   32.0   \n",
       "4  153.0    male  middle  public  vocation  39.0   31.0  40.0     39.0   51.0   \n",
       "\n",
       "         honors  awards  cid  \n",
       "0  not enrolled     0.0    1  \n",
       "1  not enrolled     0.0    1  \n",
       "2  not enrolled     0.0    1  \n",
       "3  not enrolled     0.0    1  \n",
       "4  not enrolled     0.0    1  "
      ]
     },
     "execution_count": 2,
     "metadata": {},
     "output_type": "execute_result"
    }
   ],
   "source": [
    "df = pd.read_stata('./hsbdemo.dta')\n",
    "df.head()"
   ]
  },
  {
   "cell_type": "markdown",
   "metadata": {},
   "source": [
    "We'll be using the same dataset from my logistic regression blog. To recap, this fake dataset contains data on 200 students. Let's solve two problems using KNN: a regression problem and a classification problem.\n",
    "\n",
    "**Regression Problem**: Predict `science` based on `write` and `math`.\n",
    "\n",
    "**Classification Problem**: Classify `honors` based on `write` and `math`.\n",
    "\n",
    "I'll implement KNN two ways: one from scratch and the other using a popular machine learning library called [scikit-learn](https://scikit-learn.org/stable/index.html)."
   ]
  },
  {
   "cell_type": "markdown",
   "metadata": {},
   "source": [
    "# Visualizing the Regression Problem"
   ]
  },
  {
   "cell_type": "code",
   "execution_count": 10,
   "metadata": {},
   "outputs": [
    {
     "data": {
      "image/png": "[encoded data removed]",
      "text/plain": [
       "<Figure size 432x288 with 1 Axes>"
      ]
     },
     "metadata": {
      "needs_background": "light"
     },
     "output_type": "display_data"
    }
   ],
   "source": [
    "sns.scatterplot(x = 'write', y = 'science', data = df)\n",
    "plt.title(\"Writing Score vs Science Score\")\n",
    "plt.show()"
   ]
  },
  {
   "cell_type": "code",
   "execution_count": 18,
   "metadata": {},
   "outputs": [
    {
     "data": {
      "text/plain": [
       "0.5704416362406458"
      ]
     },
     "execution_count": 18,
     "metadata": {},
     "output_type": "execute_result"
    }
   ],
   "source": [
    "np.corrcoef(df['write'].values, df['science'].values)[0, 1]"
   ]
  },
  {
   "cell_type": "code",
   "execution_count": 11,
   "metadata": {},
   "outputs": [
    {
     "data": {
      "image/png": "[encoded data removed]",
      "text/plain": [
       "<Figure size 432x288 with 1 Axes>"
      ]
     },
     "metadata": {
      "needs_background": "light"
     },
     "output_type": "display_data"
    }
   ],
   "source": [
    "sns.scatterplot(x = 'math', y = 'science', data = df)\n",
    "plt.title(\"Math Score vs Science Score\")\n",
    "plt.show()"
   ]
  },
  {
   "cell_type": "code",
   "execution_count": 17,
   "metadata": {},
   "outputs": [
    {
     "data": {
      "text/plain": [
       "0.6307331601462131"
      ]
     },
     "execution_count": 17,
     "metadata": {},
     "output_type": "execute_result"
    }
   ],
   "source": [
    "np.corrcoef(df['math'].values, df['science'].values)[0, 1]"
   ]
  },
  {
   "cell_type": "markdown",
   "metadata": {},
   "source": [
    "`math` and `science` and `write` and `science` score are both positively correlated with each other. For `math`, though, it is slightly stronger."
   ]
  },
  {
   "cell_type": "markdown",
   "metadata": {},
   "source": [
    "# Visualizing the Classification Problem"
   ]
  },
  {
   "cell_type": "code",
   "execution_count": 7,
   "metadata": {},
   "outputs": [
    {
     "data": {
      "image/png": "[encoded data removed]",
      "text/plain": [
       "<Figure size 432x288 with 1 Axes>"
      ]
     },
     "metadata": {
      "needs_background": "light"
     },
     "output_type": "display_data"
    }
   ],
   "source": [
    "sns.scatterplot(x = \"write\", y = \"math\", hue=\"honors\",\n",
    "                     data = df)\n",
    "plt.title(\"Writing Score and Math Score vs Honors\")\n",
    "plt.show()"
   ]
  },
  {
   "cell_type": "markdown",
   "metadata": {},
   "source": [
    "There appears to be a clear divide between the students enrolled in an honors class versus those who aren't. That could be because there is a grade cut-off in order to be eligible for the honors class."
   ]
  },
  {
   "cell_type": "markdown",
   "metadata": {},
   "source": [
    "# Implementing KNN from Scratch\n",
    "\n",
    "Recall that there are two main steps when it comes to using KNN:\n",
    "\n",
    "1) Compute the distance from the new observation to each pre-existing observation in the dataset. \n",
    "\n",
    "2) Find the K-closest neighbors, and then compute the most frequent label for classification problems, or the average label for regression problems.\n",
    "\n",
    "Let's work on those main functions.\n",
    "\n",
    "--- \n",
    "For me:\n",
    "\n",
    "The simplest difference between `sort()` and `sorted()` is: \n",
    "- `sort()` changes the list directly and doesn't return any value\n",
    "- `sorted()` doesn't change the list and returns the sorted list."
   ]
  },
  {
   "cell_type": "code",
   "execution_count": 30,
   "metadata": {},
   "outputs": [],
   "source": [
    "def calc_distances(x, df):\n",
    "    \"\"\"\n",
    "    Calculates the Euclidean distance between the given observation and each of the observations \n",
    "    in the given dataset.\n",
    "    \n",
    "    Parameters:\n",
    "    x - A list representing the new observation. The list is of the form [write, math] i.e., the new student's writing and\n",
    "        math scores.\n",
    "    df - A dataframe containing the rest of the observations in the dataset. \n",
    "    \n",
    "    Returns:\n",
    "    A list sorted by each pre-existing observation's Euclidean distance to x. \n",
    "    \"\"\"\n",
    "    # Holds the distance from x to each observation\n",
    "    distances = []\n",
    "    \n",
    "    # df.values() returns a list of lists, where the internal lists are of the form [write, math] \n",
    "    # i.e., each pre-existing student's writing and math scores.\n",
    "    for index, student_scores in enumerate(df.values):\n",
    "        # Calculate Euclidean distance\n",
    "        dist = np.sqrt( (x[0] - student_scores[0])**2 + (x[1] - student_scores[1])**2 )\n",
    "        \n",
    "        # We need the index to get the neighbors later\n",
    "        distances.append((dist, index))\n",
    "        \n",
    "    # Sort the distances in ascending order\n",
    "    distances.sort()\n",
    "    \n",
    "    return distances\n",
    "\n",
    "def predict(k, distances, y, df, is_regression):\n",
    "    \"\"\"\n",
    "    Selects the K-closest neighbors based on their distances to new observation x\n",
    "    and returns the average label if this is a regression problem or\n",
    "    returns the most frequent label if this is a classification problem.\n",
    "    \n",
    "    Parameters:\n",
    "    k - The hyperparameter K for KNN.\n",
    "    distances - A list sorted by distance from the x to the rest of the data.\n",
    "    y - The column that acts as the label.\n",
    "    df - The dataframe to work with.\n",
    "    is_regression - If this is true, then this function will return the average label. If not, then\n",
    "                    this function will return the most frequent label.\n",
    "    \n",
    "    Returns:\n",
    "    Either the most frequent label or the average label, depending on the problem at hand.\n",
    "    \"\"\"\n",
    "    \n",
    "    # Get the indices from the distances list, and use that to subset the\n",
    "    # closest neighbors from the original dataset\n",
    "    closest_neighbors = [df.iloc[distance[1]][y] for distance in distances[0: k]]\n",
    "    \n",
    "    if(is_regression):\n",
    "        return np.average(closest_neighbors)\n",
    "    else:\n",
    "        return stats.mode(closest_neighbors)[0][0]\n",
    "    \n",
    "def KNN(df, x, y, k, is_regression):\n",
    "    \"\"\"\n",
    "    Combines the two functions above into the KNN algorithm.\n",
    "    First, we calculate all of the distances from the new observation x to each \n",
    "    pre-existing observation in the given dataframe, and then make a prediction\n",
    "    \n",
    "    Parameters:\n",
    "    df - The dataframe to work with.\n",
    "    x - The new observation to make a prediction for.\n",
    "    y - The label to make a prediction with.\n",
    "    k - Our hyperparameter k.\n",
    "    is_regression - Whether or not the average the label. If True, then average it. Otherwise, get the most frequent label.\n",
    "    \n",
    "    Returns:\n",
    "    The predicted label for x.\n",
    "    \"\"\"\n",
    "    \n",
    "    # Regardless of the problem in this tutorial, we are working with only\n",
    "    # the write and math features\n",
    "    distances = calc_distances(x, df[['write', 'math']])\n",
    "    \n",
    "    return predict(k, distances, y, df, is_regression)"
   ]
  },
  {
   "cell_type": "markdown",
   "metadata": {},
   "source": [
    "Let's say we have a new student who got a writing score of 40 and a math score of 30. Will they be enrolled in an honor's class? What would their predicted science score be?\n",
    "\n",
    "Let's use our KNN model to find out. Let's also set K = 10, since this is a typical value for K to be."
   ]
  },
  {
   "cell_type": "code",
   "execution_count": 33,
   "metadata": {},
   "outputs": [
    {
     "name": "stdout",
     "output_type": "stream",
     "text": [
      "Predicted Science Score: 46.6\n",
      "Taking an Honors Class?: not enrolled\n"
     ]
    }
   ],
   "source": [
    "# New student has a writing score of 40 and math score of 30\n",
    "x = [40, 30]\n",
    "k = 10\n",
    "print(\"Predicted Science Score: %s\" % (KNN(df, x, 'science', k, True)))\n",
    "print(\"Taking an Honors Class?: %s\" % (KNN(df, x, 'honors', k, False)))"
   ]
  },
  {
   "cell_type": "markdown",
   "metadata": {},
   "source": [
    "Now, let's do the same thing but using scikit-learn."
   ]
  },
  {
   "cell_type": "code",
   "execution_count": 41,
   "metadata": {},
   "outputs": [
    {
     "name": "stdout",
     "output_type": "stream",
     "text": [
      "46.6\n",
      "not enrolled\n"
     ]
    },
    {
     "name": "stderr",
     "output_type": "stream",
     "text": [
      "D:\\Anaconda\\lib\\site-packages\\ipykernel_launcher.py:10: DataConversionWarning: A column-vector y was passed when a 1d array was expected. Please change the shape of y to (n_samples, ), for example using ravel().\n",
      "  # Remove the CWD from sys.path while we load stuff.\n"
     ]
    }
   ],
   "source": [
    "from sklearn.neighbors import KNeighborsClassifier, KNeighborsRegressor\n",
    "\n",
    "# Predict Science Score\n",
    "knn_regressor = KNeighborsRegressor(n_neighbors = k)\n",
    "knn_regressor.fit(df[['write', 'math']], df[['science']])\n",
    "print(knn_regressor.predict([[40, 30]])[0][0])\n",
    "\n",
    "# Predict Honors Enrollment\n",
    "knn_classifier = KNeighborsClassifier(n_neighbors = k)\n",
    "knn_classifier.fit(df[['write', 'math']], df[['honors']])\n",
    "print(knn_classifier.predict([[40, 30]])[0])"
   ]
  },
  {
   "cell_type": "markdown",
   "metadata": {},
   "source": [
    "We get similar scores!"
   ]
  },
  {
   "cell_type": "markdown",
   "metadata": {},
   "source": [
    "# Changing K\n",
    "\n",
    "Recall that changing K affects the bias-variance tradeoff of the KNN model. As you increase it, bias increases but variance decreases. AS you decrease it, bias decreases but variance increases.\n",
    "\n",
    "Let's see how this affects our regression problem. We'll use scikit-learn's model, and use compare the results from using two values of K: 1 and 200."
   ]
  },
  {
   "cell_type": "code",
   "execution_count": 42,
   "metadata": {},
   "outputs": [
    {
     "name": "stdout",
     "output_type": "stream",
     "text": [
      "42.0\n"
     ]
    }
   ],
   "source": [
    "knn_regressor = KNeighborsRegressor(n_neighbors = 1)\n",
    "knn_regressor.fit(df[['write', 'math']], df[['science']])\n",
    "print(knn_regressor.predict([[40, 30]])[0][0])"
   ]
  },
  {
   "cell_type": "code",
   "execution_count": 43,
   "metadata": {},
   "outputs": [
    {
     "name": "stdout",
     "output_type": "stream",
     "text": [
      "51.85\n"
     ]
    }
   ],
   "source": [
    "knn_regressor = KNeighborsRegressor(n_neighbors = 200)\n",
    "knn_regressor.fit(df[['write', 'math']], df[['science']])\n",
    "print(knn_regressor.predict([[40, 30]])[0][0])"
   ]
  },
  {
   "cell_type": "markdown",
   "metadata": {},
   "source": [
    "Note that as we increase K, the student's predicted science score also increases. This is because we are taking into consideration the **entire** dataset i.e., we are averaging all of the labels from the dataset. \n",
    "\n",
    "When K = 1, we are just using the same science score of the closest neighbor. "
   ]
  }
 ],
 "metadata": {
  "kernelspec": {
   "display_name": "Python 3",
   "language": "python",
   "name": "python3"
  },
  "language_info": {
   "codemirror_mode": {
    "name": "ipython",
    "version": 3
   },
   "file_extension": ".py",
   "mimetype": "text/x-python",
   "name": "python",
   "nbconvert_exporter": "python",
   "pygments_lexer": "ipython3",
   "version": "3.7.3"
  }
 },
 "nbformat": 4,
 "nbformat_minor": 4
}
