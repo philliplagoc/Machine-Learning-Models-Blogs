{
 "cells": [
  {
   "cell_type": "code",
   "execution_count": 46,
   "metadata": {},
   "outputs": [],
   "source": [
    "# Import packages\n",
    "import pandas as pd\n",
    "import numpy as np\n",
    "import matplotlib.pyplot as plt\n",
    "\n",
    "# Set plot characteristics\n",
    "title_font_size = 15\n",
    "font_size = 12\n",
    "tick_size = 10\n",
    "plt.rc('figure', titlesize = title_font_size)\n",
    "plt.rc('axes', labelsize = font_size)\n",
    "plt.rc('axes', titlesize = font_size)\n",
    "plt.rc('xtick', labelsize = tick_size)\n",
    "plt.rc('ytick', labelsize = tick_size)"
   ]
  },
  {
   "cell_type": "markdown",
   "metadata": {},
   "source": [
    "# What is... Linear Regression?\n",
    "\n",
    "![\"Endless Possibilities\"](https://images.unsplash.com/photo-1583990994634-8f6db946236a?ixlib=rb-1.2.1&ixid=eyJhcHBfaWQiOjEyMDd9&auto=format&fit=crop&w=800&q=80)\n",
    "*Fig. 1: Learning linear regression unlocks the potential to learn more complicated techniques and concepts.*\n",
    "\n",
    "When I asked my mentor how to prepare for data science interviews, he recommended that I focus on understanding various machine learning models, the first of which being the linear regression algorithm. It makes sense that he’d recommend me to do so. Many data scientists and machine learning engineers regard this algorithm as the first step towards becoming a professional in the field. It serves as the base for which we can develop a deeper understanding for more complex models.\n",
    "\n",
    "## Describe Linear Regression \n",
    "But, what actually is it? From Wikipedia, we see that the algorithm entails, “a linear approach to modeling the relationship between a scalar response (or dependent variable) and one or more explanatory variables (or independent variables)”. In other words, **the linear regression algorithm simply uses a line to model two variables: the independent and dependent variables**. From this, we can then make predictions for future observations. \n",
    "\n",
    "How does it look like mathematically? Think back to your high school algebra teacher, and recall that one lesson he or she was talking about the equation of a line. You’ll see that the equation of a line looks like this: \n",
    "\n",
    "$$Y = mX + b$$ \n",
    "\n",
    "Now, this is what the linear regression model looks like: \n",
    "\n",
    "$$Y = \\beta_0 + \\beta_1 \\cdot X$$ \n",
    "\n",
    "Here:\n",
    "- $Y$ is the dependent variable. This is the variable we are trying to predict.\n",
    "- $\\beta_0$ is the slope intercept. If there were no value for $X$ i.e. $X = 0$, then $Y$ would be this number.\n",
    "- $\\beta_1$ is the slope coefficient. For every unit increase in $X$, $Y$ is changed by this much.\n",
    "- $X$ is the independent variable. This is the variable that helps us predict $Y$.\n",
    "\n",
    "Notice that it’s the exact same formula because the model itself is a line, it's just the variables are different. So in the graph above, that blue line we see can be modelled using the equation of a line.\n",
    "\n",
    "There could be many values for $\\beta_0$ and $\\beta_1$. However, we are only interested in the values that give us the line that best fits the data.\n",
    "With this in mind, we can see that the linear regression algorithm attempts to **find the line that best fits the data by optimizing the coefficients $\\beta_0$ and $\\beta_1$**.\n",
    "\n",
    "Of course, there are still many other questions to answer. How do I get the best values? Can there be more variables? When and how can I use it? Why should I use it? I will go more in-depth into these questions below, starting with when to use it. \n",
    "\n",
    "## When would you use it?\n",
    "### Assumptions\n",
    "There are several assumptions we must keep track of when using linear regression. These are:\n",
    "\n",
    "- **Normality**\n",
    "\n",
    "We assume that all variables are normally distributed. This helps us use other statistical methods in the future. \n",
    "\n",
    "- **Linearity**\n",
    "\n",
    "Linearity is as it sounds: we assume there is a linear relationship between the predictor variable and response variable.\n",
    "This isn’t always the case with real data, but regardless, linear regression can still be as effective as other more complex models.\n",
    "\n",
    "- **Constant variance of the residuals**\n",
    "\n",
    "Recall that variance refers to the measurement of spread between numbers, and that residuals are calculated as the actual value minus the predicted value i.e. the error.\n",
    "So, we assume that the variance in the errors of the response variables stays relatively the same throughout all values of each of the predictor variables. \n",
    "\n",
    "In other words, no matter the value for head size, we get the same spread in errors for brain weight. This is called *homoscedasticity*.\n",
    "\n",
    "Why is this important? \n",
    "\n",
    "Let’s think of what happens when this isn’t the case, which is called heteroscedasticity. It would be difficult to create a regression model when heteroscedasticity is present, as there’d be great variety in the independent variable. A cone shape would form from plotting this independent variable and this cone shape would make it difficult to fit a line."
   ]
  },
  {
   "cell_type": "code",
   "execution_count": 2,
   "metadata": {},
   "outputs": [
    {
     "data": {
      "image/png": "[encoded data removed]",
      "text/plain": [
       "<Figure size 432x288 with 1 Axes>"
      ]
     },
     "metadata": {
      "needs_background": "light"
     },
     "output_type": "display_data"
    }
   ],
   "source": [
    "np.random.seed(1)\n",
    "X = np.arange(20)\n",
    "Y = [x * 0.3 + np.random.rand(1) * x for x in range(20)]  \n",
    "plt.scatter(X, Y)\n",
    "\n",
    "m, b = np.polyfit(X, Y, 1)\n",
    "plt.plot(X, m * X + b)\n",
    "\n",
    "plt.show()"
   ]
  },
  {
   "cell_type": "markdown",
   "metadata": {},
   "source": [
    "*Fig. 1: A model will have difficulty fitting to this data. Leftmost values on the X-axis vary far less than those on the rightmost end, and so the line will have trouble adjusting to correctly capture those values on the rightmost end.*"
   ]
  },
  {
   "cell_type": "markdown",
   "metadata": {},
   "source": [
    "\n",
    "- **Little to no multicollinearity**\n",
    "\n",
    "Multicollinearity is the idea that predictor variables are correlated with each other. We assume that there exists little to no correlation between the predictor variables, meaning that one person’s head size does not affect another’s.\n",
    "\n",
    "Personally, I use this algorithm as a baseline to compare other models to. For example, if I were to predict housing prices, I would start off by using a linear regression model to predict prices, even though it’s not reasonable to assume that the data itself is linear. If the linear regression model performs just as well as some other, more complex model, then why would you use more complicated models if the simplest one performs just as well?\n",
    "\n",
    "## How do you find the optimize the coefficients?\n",
    "\n",
    "The best way to explain any new concept is through examples. Suppose we have a [dataset](https://github.com/FeezyHendrix/LinearRegressionfromscrath) containing the size of a person’s head and the weight of their brain, and we want to predict a new person’s brain weight given their head size. We can do this using linear regression, where the independent variable is brain weight and dependent variable is head size. I'll keep referring back to this example to make it easier to explain concepts.\n",
    "\n",
    "### Cost Function\n",
    "\n",
    "In order to find the line of best fit, we need to come up with the best values for b_0 and b_1. How would we do this? \n",
    "\n",
    "First, recall that the linear regression model for our example looks like this: \n",
    "\n",
    "$$Brain Weight = \\beta_0 + \\beta_1 \\cdot Head Size$$ \n",
    "\n",
    "Let’s visualize what the line of best fit might look like in our dataset. Note that these lines are **dummy lines**, meaning that I used coefficients that looked like it might fit the data. This is done purely for demonstrative purposes."
   ]
  },
  {
   "cell_type": "code",
   "execution_count": 41,
   "metadata": {
    "scrolled": true
   },
   "outputs": [
    {
     "data": {
      "text/html": [
       "<div>\n",
       "<style scoped>\n",
       "    .dataframe tbody tr th:only-of-type {\n",
       "        vertical-align: middle;\n",
       "    }\n",
       "\n",
       "    .dataframe tbody tr th {\n",
       "        vertical-align: top;\n",
       "    }\n",
       "\n",
       "    .dataframe thead th {\n",
       "        text-align: right;\n",
       "    }\n",
       "</style>\n",
       "<table border=\"1\" class=\"dataframe\">\n",
       "  <thead>\n",
       "    <tr style=\"text-align: right;\">\n",
       "      <th></th>\n",
       "      <th>Gender</th>\n",
       "      <th>Age Range</th>\n",
       "      <th>Head Size(cm^3)</th>\n",
       "      <th>Brain Weight(grams)</th>\n",
       "    </tr>\n",
       "  </thead>\n",
       "  <tbody>\n",
       "    <tr>\n",
       "      <th>0</th>\n",
       "      <td>1</td>\n",
       "      <td>1</td>\n",
       "      <td>4512</td>\n",
       "      <td>1530</td>\n",
       "    </tr>\n",
       "    <tr>\n",
       "      <th>1</th>\n",
       "      <td>1</td>\n",
       "      <td>1</td>\n",
       "      <td>3738</td>\n",
       "      <td>1297</td>\n",
       "    </tr>\n",
       "    <tr>\n",
       "      <th>2</th>\n",
       "      <td>1</td>\n",
       "      <td>1</td>\n",
       "      <td>4261</td>\n",
       "      <td>1335</td>\n",
       "    </tr>\n",
       "    <tr>\n",
       "      <th>3</th>\n",
       "      <td>1</td>\n",
       "      <td>1</td>\n",
       "      <td>3777</td>\n",
       "      <td>1282</td>\n",
       "    </tr>\n",
       "    <tr>\n",
       "      <th>4</th>\n",
       "      <td>1</td>\n",
       "      <td>1</td>\n",
       "      <td>4177</td>\n",
       "      <td>1590</td>\n",
       "    </tr>\n",
       "  </tbody>\n",
       "</table>\n",
       "</div>"
      ],
      "text/plain": [
       "   Gender  Age Range  Head Size(cm^3)  Brain Weight(grams)\n",
       "0       1          1             4512                 1530\n",
       "1       1          1             3738                 1297\n",
       "2       1          1             4261                 1335\n",
       "3       1          1             3777                 1282\n",
       "4       1          1             4177                 1590"
      ]
     },
     "execution_count": 41,
     "metadata": {},
     "output_type": "execute_result"
    }
   ],
   "source": [
    "df = pd.read_csv('data/dataset.csv')\n",
    "X = df['Head Size(cm^3)']\n",
    "Y = df['Brain Weight(grams)']\n",
    "\n",
    "df.head()"
   ]
  },
  {
   "cell_type": "code",
   "execution_count": 56,
   "metadata": {},
   "outputs": [
    {
     "data": {
      "image/png": "[encoded data removed]",
      "text/plain": [
       "<Figure size 432x288 with 1 Axes>"
      ]
     },
     "metadata": {
      "needs_background": "light"
     },
     "output_type": "display_data"
    }
   ],
   "source": [
    "plt.scatter(X, Y)\n",
    "\n",
    "# Use random coefficients for illustration\n",
    "dummy_reg_line_1 = 0.28 * X + 320\n",
    "dummy_reg_line_2 = 0.23 * X + 300\n",
    "plt.plot(X, dummy_reg_line_1, color = 'g')\n",
    "plt.plot(X, dummy_reg_line_2, color = 'r')\n",
    "\n",
    "plt.suptitle(\"Head Size vs Brain Weight\")\n",
    "plt.xlabel('Head Size ($cm^3$)')\n",
    "plt.ylabel('Brain Weight (grams)')\n",
    "\n",
    "plt.show()"
   ]
  },
  {
   "cell_type": "markdown",
   "metadata": {},
   "source": [
    "Above, we can see that the green line is a better fit than the red line. \n",
    "\n",
    "Why is the green line better than the red line? Because it is closer to all of the data points. In other words, we want the line that **best minimizes the error between the predicted values, which are the values on our line, and the actual values, which are the data points**. Our goal is to find the line that best minimizes these errors.\n",
    "\n",
    "This goal can be represented mathematically as the **cost function**.\n",
    "\n",
    "$$J = \\frac{1}{n}\\sum_{i = 1}^{n}(pred_i - y_i)^{2}$$\n",
    "\n",
    "*Fig.1: Our goal is the minimize $J$*.\n",
    "\n",
    "Let's step through this equation, starting from the right.\n",
    "\n",
    "- $pred_i$ represents our model's prediction for the $i^{th}$ observation. This is influenced by $\\beta_0$ and $\\beta_1$.\n",
    "\n",
    "- $y_i$ is the actual value for the $i^{th}$ observation.\n",
    "\n",
    "- $(pred_i - y_i)^{2}$ calculates the error, or residual, between our predictions and the actual value of the $i^{th}$ observation. We square it because we can end up with negative values, which can affect our summation.\n",
    "\n",
    "- $\\sum_{i = 1}^{n}(pred_i - y_i)^{2}$ adds up all of the residuals.\n",
    "\n",
    "- $\\frac{1}{n}\\sum_{i = 1}^{n}(pred_i - y_i)^{2}$ divides that sum by the total number of observations $n$.\n",
    "\n",
    "In the end, we end up calculating the **mean squared error** of all observations. This overall process is called Ordinary Least Squares (OLS).\n",
    "\n",
    "Now that we know *what* to optimize, *how* do we optimize it?\n",
    "\n",
    "### Gradient Descent\n",
    "\n",
    "One method to get to the best values for $\\beta_0$ and $\\beta_1$ is gradient descent. \n",
    "\n",
    "Gradient descent updates the coefficients in order to reduce our cost function $J$, starting at some initial value that we choose. \n",
    "In order to use it, we must take gradients of $J$ by taking the partial derivatives with respect to $\\beta_0$ and $\\beta_1$. \n",
    "\n",
    "$J$ can be rewritten in terms of our coefficients, like so:\n",
    "\n",
    "$$J = \\frac{1}{n}\\sum_{i = 1}^{n}(\\beta_0 + \\beta_1 \\cdot x_i - y_i)^{2}$$\n",
    "\n",
    "Then, we have to take the partial derivatives with respect to $\\beta_0$ and $\\beta_1$.\n",
    "\n",
    "$$\\frac{\\partial J}{\\partial \\beta_0} = \\frac{2}{n}\\sum_{i = 1}^{n}(\\beta_0 + \\beta_1 \\cdot x_i - y_i)$$\n",
    "\n",
    "$$\\frac{\\partial J}{\\partial \\beta_1} = \\frac{2}{n}\\sum_{i = 1}^{n}(\\beta_0 + \\beta_1 \\cdot x_i - y_i) \\cdot x_i$$\n",
    "\n",
    "Now that we have these partial derivatives, we can compute new values for $\\beta_0$ and $\\beta_1$.\n",
    "\n",
    "$$\\beta_0 = \\beta_0 - \\alpha \\cdot \\frac{\\partial J}{\\partial \\beta_0}$$\n",
    "\n",
    "$$\\beta_1 = \\beta_1 - \\alpha \\cdot \\frac{\\partial J}{\\partial \\beta_1}$$\n",
    "\n",
    "You might notice the $\\alpha$ symbol. This is our learning rate, which controls how fast we get to the optimal coefficient. Larger values converge quicker but can potentially “overshoot” the minima, whereas lower alpha values can get us to the optima but more slowly. Typically, I use 0.1 as my $\\alpha$.\n",
    "\n",
    "Overall, gradient descent is a way to update our coefficients $\\beta_0$ and $\\beta_1$ by using partial derivatives with respect to those coefficients in our cost function. We also use a learning rate $\\alpha$, which represents how fast we want to converge to the optimal values. You can decide how many times you want to run gradient descent, and either run it a certain number of times or until the coefficients stop updating by a certain amount.\n",
    "\n",
    "### Closed Form Solution\n",
    "\n",
    "Since the linear regression algorithm is guarenteed to converge, we can also calculate the coefficients using the closed-form solution.\n",
    "\n",
    "This is the formula:\n",
    "\n",
    "$$\\beta = (X^TX)^{-1}X^Ty$$\n",
    "\n",
    "- $\\beta$ is a vector of our coefficients\n",
    "- $X$ are our features\n",
    "\n",
    "This is a very easy way to compute the coefficients. However, this method is not always reliable because it can become very expensive to compute if your data has lots of features and for most nonlinear regression problems, this closed form solution doesn't work. As such, gradient descent is used more often.\n",
    "\n",
    "### Mutliple Linear Regression\n",
    "\n",
    "You can, of course, add more variables to this model. The dataset we are using has another column called `Gender`. I could easily add this to my linear regression model, making a multiple linear regression model that looks like \n",
    "\n",
    "$$Y = \\beta_0 + \\beta_1 \\cdot Head Size + \\beta_2 \\cdot Gender$$\n",
    "\n",
    "#### Interaction Terms\n",
    "Now suppose that we have an interaction between brain size and gender. In other words, head size has a different impact on brain size depending on whether or not the person is male or female.\n",
    "\n",
    "This would result in a model that looks like: \n",
    "\n",
    "$$Y = \\beta_0 + \\beta_1 \\cdot Head Size + \\beta_2 \\cdot Gender + \\beta_3 \\cdot (Head Size \\cdot Gender)$$ \n",
    "\n",
    "There are now three coefficients, with the $\\beta_3$ term being the **interaction term**.\n",
    "\n",
    "With an interaction term, it's more complicated to answer the question “how much does a person’s brain weigh” as now, we have to also consider whether or not we are talking about a male or female.\n",
    "\n",
    "How does this all work out mathematically? Assume that for every male we have, their gender in the `Gender` column is recorded as 1. For every female, it is recorded as 2.\n",
    "\n",
    "Now, suppose that we want to predict the brain weight of a new male’s head i.e. `Gender` = 1. Our model becomes: \n",
    "\n",
    "$$Y = \\beta_0 + \\beta_1 \\cdot Head Size + \\beta_2 \\cdot 1 + \\beta_3 \\cdot (Head Size \\cdot 1)$$ \n",
    "\n",
    "$$Y = \\beta_0 + \\beta_1 \\cdot Head Size + \\beta_2 + \\beta_3 \\cdot Head Size$$ \n",
    "\n",
    "Observe that $Y$ is being affected by $\\beta_0 + \\beta_1 + \\beta_2 + \\beta_3$.\n",
    "\n",
    "Now, let's predict the brain weight for a female i.e. `Gender` = 2:\n",
    "\n",
    "$$Y = \\beta_0 + \\beta_1 \\cdot Head Size + \\beta_2 \\cdot 2 + \\beta_3 \\cdot (Head Size \\cdot 2)$$ \n",
    "\n",
    "$$Y = \\beta_0 + \\beta_1 \\cdot Head Size + 2\\beta_2 + 2\\beta_3 \\cdot Head Size$$\n",
    "\n",
    "The models are different! For every unit increase of head size for a male, the brain weight changes by $\\beta_0 + \\beta_1 + \\beta_2 + \\beta_3$. \n",
    "\n",
    "But for females, every unit increase of head size means the brain weight changes by $\\beta_0 + \\beta_1 + 2\\beta_2 + 2\\beta_3$. You can see that, depending on the gender, head size has a different affect on brain weight.\n",
    "\n",
    "Interaction terms are an important concept for linear regression models, as they allow us to expand upon the relationship between $X$ and $Y$ in our dataset, and allows us to have a deeper understanding of what’s going on in the data.\n",
    "\n",
    "## Coding it \n",
    "\n",
    "Now that I've explained what linear regression is and how it works, let's actually code it using `statsmodels`, a Python package that'll help us with estimating the coefficients. With `statsmodels`, we can calculate $\\beta_0$ and $\\beta_1$ in two lines of code."
   ]
  },
  {
   "cell_type": "code",
   "execution_count": 61,
   "metadata": {},
   "outputs": [
    {
     "data": {
      "image/png": "[encoded data removed]",
      "text/plain": [
       "<Figure size 432x288 with 1 Axes>"
      ]
     },
     "metadata": {
      "needs_background": "light"
     },
     "output_type": "display_data"
    }
   ],
   "source": [
    "import statsmodels.api as sm\n",
    "\n",
    "model = sm.OLS(Y, (sm.add_constant(X)))\n",
    "results = model.fit()\n",
    "\n",
    "plt.scatter(X, Y)\n",
    "\n",
    "plt.plot(X, results.fittedvalues, 'g', label = 'Best Fit Line')\n",
    "plt.plot(X, dummy_reg_line_1, 'orange', label = 'Dummy Line 1')\n",
    "plt.plot(X, dummy_reg_line_2, 'r', label = 'Dummy Line 2')\n",
    "\n",
    "plt.xlabel(\"Head Size ($cm^3$)\")\n",
    "plt.ylabel(\"Brain Weight (grams)\")\n",
    "plt.suptitle(\"Head Size vs Brain Weight\")\n",
    "plt.legend()\n",
    "\n",
    "plt.show()"
   ]
  },
  {
   "cell_type": "markdown",
   "metadata": {},
   "source": [
    "We see that the green line, which used the coefficients that `statsmodels` calculated, is a much better fit of the data than the dummy lines from earlier. \n",
    "\n",
    "In fact, `statsmodels` allows us to look deeper into the regression results, such as the p-value."
   ]
  },
  {
   "cell_type": "code",
   "execution_count": 74,
   "metadata": {
    "scrolled": true
   },
   "outputs": [
    {
     "name": "stdout",
     "output_type": "stream",
     "text": [
      "                             OLS Regression Results                            \n",
      "===============================================================================\n",
      "Dep. Variable:     Brain Weight(grams)   R-squared:                       0.639\n",
      "Model:                             OLS   Adj. R-squared:                  0.638\n",
      "Method:                  Least Squares   F-statistic:                     416.5\n",
      "Date:                 Mon, 08 Jun 2020   Prob (F-statistic):           5.96e-54\n",
      "Time:                         20:49:22   Log-Likelihood:                -1350.3\n",
      "No. Observations:                  237   AIC:                             2705.\n",
      "Df Residuals:                      235   BIC:                             2711.\n",
      "Df Model:                            1                                         \n",
      "Covariance Type:             nonrobust                                         \n",
      "===================================================================================\n",
      "                      coef    std err          t      P>|t|      [0.025      0.975]\n",
      "-----------------------------------------------------------------------------------\n",
      "const             325.5734     47.141      6.906      0.000     232.701     418.446\n",
      "Head Size(cm^3)     0.2634      0.013     20.409      0.000       0.238       0.289\n",
      "==============================================================================\n",
      "Omnibus:                        8.329   Durbin-Watson:                   1.843\n",
      "Prob(Omnibus):                  0.016   Jarque-Bera (JB):                8.665\n",
      "Skew:                           0.366   Prob(JB):                       0.0131\n",
      "Kurtosis:                       3.584   Cond. No.                     3.66e+04\n",
      "==============================================================================\n",
      "\n",
      "Warnings:\n",
      "[1] Standard Errors assume that the covariance matrix of the errors is correctly specified.\n",
      "[2] The condition number is large, 3.66e+04. This might indicate that there are\n",
      "strong multicollinearity or other numerical problems.\n"
     ]
    }
   ],
   "source": [
    "print(results.summary())"
   ]
  },
  {
   "cell_type": "markdown",
   "metadata": {},
   "source": [
    "### Interpreting your results\n",
    "\n",
    "The above table shows the values that `statsmodels` calculated for $\\beta_0$ and $\\beta_1$, which are 325.573 and 0.263, respectively.\n",
    "\n",
    "This means that **for every unit increase in head size, brain weight changes by 0.263 grams**.\n",
    "\n",
    "The p-value also tells us if there is a significant effect of head size on brain weight. The p-value is used in hypothesis testing, and if the p-value is less than some prior significance level $\\alpha$, then there is a significant effect of the independent variable on the dependent variable.\n",
    "\n",
    "A common $\\alpha$ value to use is 0.5. The p-value in the table is very small, which is why it's 0. So, we can conclude that there is a significant effect of head size on brain weight.\n",
    "\n",
    "### $R^2$\n",
    "Another important statistic to look at is $R^2$. This value captures the proportion of variance in the dependent variable that can be explained by our model. Mathematically, it looks like:\n",
    "\n",
    "$$R^2 = 1 - \\frac{SS_{res}}{SS_{tot}}$$\n",
    "\n",
    "$$SS_{res} = \\sum_{i}(y_i - pred_i)^2$$\n",
    "\n",
    "$$SS_{tot} = \\sum_{i}(y_i - \\bar{y})^2$$\n",
    "\n",
    "$$\\bar{y} = \\frac{1}{n}\\sum_{i = 1}^{n}(y_i)^2$$\n",
    "\n",
    "$R^2$ is the sum of residual squares $SS_{res}$ divided by the total sum of squares $SS_{tot}$, which is proportional to the variance of the data. $\\bar{y}$ represents the mean of the response variable. \n",
    "Using $\\bar{y}$ means that $R^2$ is a relative measure of fit. Instead of explicitly comparing how well the model performs, we compare its performance around the mean $\\bar{y}$. \n",
    "\n",
    "The higher $R^2$ is, the more the model can explain all of the variability in the dependent variable, and the closer the data is to the line. On the other hand, if it’s 0, then the model explains no variability, and so it doesn't fit the data well. \n",
    "\n",
    "In this example, we see that it is around 0.63, meaning that about 63% of the variance in the data is explained by the green regression line.  \n",
    "\n",
    "## Coding it from scratch\n",
    "\n",
    "For fun, let's implement the linear regression algorithm from scratch using the `numpy` package.\n",
    "\n",
    "### Using the Closed Form Solution\n",
    "\n",
    "Recall that the closed form solution is: $$\\beta = (X^TX)^{-1}X^Ty$$"
   ]
  },
  {
   "cell_type": "code",
   "execution_count": 163,
   "metadata": {},
   "outputs": [
    {
     "name": "stdout",
     "output_type": "stream",
     "text": [
      "Coefficients from Closed Form Solution:\n",
      "Y = 325.57 + 0.26X\n"
     ]
    }
   ],
   "source": [
    "X = df['Head Size(cm^3)'].values\n",
    "Y = df['Brain Weight(grams)'].values\n",
    "\n",
    "N = len(X)\n",
    "\n",
    "b0 = np.ones(X.shape[0]).reshape(N, 1)\n",
    "X_mat = np.hstack((b0, X.reshape(N, 1)))\n",
    "A = np.dot(X_mat.transpose(), X_mat) # (X^TX)\n",
    "B = np.dot(X_mat.transpose(), Y.reshape(N, 1)) # X^Ty\n",
    "betas = np.dot(B.transpose(), np.linalg.inv(A))\n",
    "\n",
    "print(\"Coefficients from Closed Form Solution:\")\n",
    "print(\"Y = %.2f + %.2fX\" % (betas[0, 0], betas[0, 1]))"
   ]
  },
  {
   "cell_type": "markdown",
   "metadata": {},
   "source": [
    "This is close to what `statsmodels` calculated!\n",
    "\n",
    "### Using Gradient Descent\n",
    "\n",
    "Now, let's do the same thing but using gradient descent."
   ]
  },
  {
   "cell_type": "code",
   "execution_count": 284,
   "metadata": {},
   "outputs": [
    {
     "name": "stdout",
     "output_type": "stream",
     "text": [
      "Coefficients from Gradient Descent:\n",
      "Y = 0.000 + 0.352X\n"
     ]
    }
   ],
   "source": [
    "\"\"\"\n",
    "Calculates the cost function.\n",
    "\"\"\"\n",
    "def cost_function(preds, Y, N):\n",
    "    return (1/N) * sum((preds - Y)**2)\n",
    "\n",
    "# Init. coefficients to arbitrary values\n",
    "b_0 = 0\n",
    "b_1 = 0\n",
    "\n",
    "# Define the learning rate alpha\n",
    "alpha = 0.000000001\n",
    "epochs = 1000\n",
    "\n",
    "N = float(len(X))\n",
    "\n",
    "for i in range(epochs):\n",
    "    # Make predictions\n",
    "    preds = b_0 + b_1 * X\n",
    "    residuals = preds - Y\n",
    "    \n",
    "    # Partial derivative wrt b0, b1\n",
    "    D_b_0 = (2/N) * (sum(residuals))\n",
    "    D_b_1 = (2/N) * (sum(residuals * X))\n",
    "\n",
    "    b_0 = b_0 - alpha * D_b_0 # Update b0\n",
    "    b_1 = b_1 - alpha * D_b_1 # Update b1\n",
    "    \n",
    "print(\"Coefficients from Gradient Descent:\")\n",
    "print(\"Y = %.3f + %.3fX\" % (b_0, b_1))"
   ]
  },
  {
   "cell_type": "markdown",
   "metadata": {},
   "source": [
    "You can see that my values for this are a lot more different than what `statsmodels` and the closed form solution get. That's because `statsmodels` implements its gradient descent much more differently and using more complex calculations.\n",
    "\n",
    "In order to get reasonable values, I had to lower the learning rate by quite a bit. Using typical values like 0.001 would be too large, and so my gradient descent would \"overshoot\" the minima."
   ]
  },
  {
   "cell_type": "markdown",
   "metadata": {},
   "source": [
    "## Other ways to evaluate a Linear Regression Model\n",
    "Once you have a model, how can we actually determine that we have the line of best fit? How can we evaluate its performance? We've already looked at one way, which was $R^2$. Another evaluation metric we can use is the Root Mean Squared Error.\n",
    "\n",
    "### Root Mean Squared Error\n",
    "\n",
    "The Root Mean Squared Error is just as it sounds. First, you get the average of all your residuals squared in your dataset, then you get the square root of it. \n",
    "\n",
    "$$RMSE = \\sqrt{\\frac{1}{n}\\sum_{i= 1}^{n}(y_i - pred_i)^2}$$\n",
    "\n",
    "Lower values indicate a better fit. Whereas $R^2$ used $\\bar{y}$, we are explicitly comparing how well our model makes predictions. Thus, RMSE is an absolute measure of fit, and is also more widely used. If you want your model to be as it can be in making predictions, then use RMSE as your evaluation metric.\n",
    "\n",
    "## Why use Linear Regression\n",
    "\n",
    "By now, you should have a more in-depth understanding as to what linear regression is, how it works, when you can use it, and how it can be used. Now, I'll explain *why* you'd want to use it.\n",
    "\n",
    "### Pros\n",
    "Perhaps the greatest strength of the linear regression algorithm is its simplicity. As I showed earlier, it is both easy to understand and implement. It also allows us to interpret the coefficients, and allows us to see how much the predictor variables affect the response variable. Even if it performs poorly, we can still use the model to determine the nature of the relationship.\n",
    "\n",
    "### Cons\n",
    "This simplicity is also a huge flaw. In most real-world cases, the relationship between $X$ and $Y$ won’t be linear. The linear regression algorithm won’t pick up on this, or any of the other complexities within the data.\n",
    "Linear regression is also highly sensitive to outliers, meaning the line will be “pulled” towards those outliers to try and minimize the distance to them.\n",
    "\n",
    "I hope this blog gives you a better understanding of linear regression. Though it is simple to understand, there is a lot that goes underneath the hood, and getting a grasp of those concepts will help you immensely in understanding more complicated models.\n"
   ]
  }
 ],
 "metadata": {
  "kernelspec": {
   "display_name": "Python 3",
   "language": "python",
   "name": "python3"
  },
  "language_info": {
   "codemirror_mode": {
    "name": "ipython",
    "version": 3
   },
   "file_extension": ".py",
   "mimetype": "text/x-python",
   "name": "python",
   "nbconvert_exporter": "python",
   "pygments_lexer": "ipython3",
   "version": "3.7.3"
  }
 },
 "nbformat": 4,
 "nbformat_minor": 2
}
