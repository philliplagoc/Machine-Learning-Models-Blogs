{
 "cells": [
  {
   "cell_type": "markdown",
   "metadata": {},
   "source": [
    "# Introduction"
   ]
  },
  {
   "cell_type": "code",
   "execution_count": 1,
   "metadata": {},
   "outputs": [],
   "source": [
    "import pandas as pd\n",
    "import numpy as np\n",
    "import statsmodels.api as sm\n",
    "import matplotlib.pyplot as plt"
   ]
  },
  {
   "cell_type": "code",
   "execution_count": 2,
   "metadata": {},
   "outputs": [
    {
     "data": {
      "text/html": [
       "<div>\n",
       "<style scoped>\n",
       "    .dataframe tbody tr th:only-of-type {\n",
       "        vertical-align: middle;\n",
       "    }\n",
       "\n",
       "    .dataframe tbody tr th {\n",
       "        vertical-align: top;\n",
       "    }\n",
       "\n",
       "    .dataframe thead th {\n",
       "        text-align: right;\n",
       "    }\n",
       "</style>\n",
       "<table border=\"1\" class=\"dataframe\">\n",
       "  <thead>\n",
       "    <tr style=\"text-align: right;\">\n",
       "      <th></th>\n",
       "      <th>id</th>\n",
       "      <th>female</th>\n",
       "      <th>ses</th>\n",
       "      <th>schtyp</th>\n",
       "      <th>prog</th>\n",
       "      <th>read</th>\n",
       "      <th>write</th>\n",
       "      <th>math</th>\n",
       "      <th>science</th>\n",
       "      <th>socst</th>\n",
       "      <th>honors</th>\n",
       "      <th>awards</th>\n",
       "      <th>cid</th>\n",
       "    </tr>\n",
       "  </thead>\n",
       "  <tbody>\n",
       "    <tr>\n",
       "      <th>0</th>\n",
       "      <td>45.0</td>\n",
       "      <td>female</td>\n",
       "      <td>low</td>\n",
       "      <td>public</td>\n",
       "      <td>vocation</td>\n",
       "      <td>34.0</td>\n",
       "      <td>35.0</td>\n",
       "      <td>41.0</td>\n",
       "      <td>29.0</td>\n",
       "      <td>26.0</td>\n",
       "      <td>not enrolled</td>\n",
       "      <td>0.0</td>\n",
       "      <td>1</td>\n",
       "    </tr>\n",
       "    <tr>\n",
       "      <th>1</th>\n",
       "      <td>108.0</td>\n",
       "      <td>male</td>\n",
       "      <td>middle</td>\n",
       "      <td>public</td>\n",
       "      <td>general</td>\n",
       "      <td>34.0</td>\n",
       "      <td>33.0</td>\n",
       "      <td>41.0</td>\n",
       "      <td>36.0</td>\n",
       "      <td>36.0</td>\n",
       "      <td>not enrolled</td>\n",
       "      <td>0.0</td>\n",
       "      <td>1</td>\n",
       "    </tr>\n",
       "    <tr>\n",
       "      <th>2</th>\n",
       "      <td>15.0</td>\n",
       "      <td>male</td>\n",
       "      <td>high</td>\n",
       "      <td>public</td>\n",
       "      <td>vocation</td>\n",
       "      <td>39.0</td>\n",
       "      <td>39.0</td>\n",
       "      <td>44.0</td>\n",
       "      <td>26.0</td>\n",
       "      <td>42.0</td>\n",
       "      <td>not enrolled</td>\n",
       "      <td>0.0</td>\n",
       "      <td>1</td>\n",
       "    </tr>\n",
       "    <tr>\n",
       "      <th>3</th>\n",
       "      <td>67.0</td>\n",
       "      <td>male</td>\n",
       "      <td>low</td>\n",
       "      <td>public</td>\n",
       "      <td>vocation</td>\n",
       "      <td>37.0</td>\n",
       "      <td>37.0</td>\n",
       "      <td>42.0</td>\n",
       "      <td>33.0</td>\n",
       "      <td>32.0</td>\n",
       "      <td>not enrolled</td>\n",
       "      <td>0.0</td>\n",
       "      <td>1</td>\n",
       "    </tr>\n",
       "    <tr>\n",
       "      <th>4</th>\n",
       "      <td>153.0</td>\n",
       "      <td>male</td>\n",
       "      <td>middle</td>\n",
       "      <td>public</td>\n",
       "      <td>vocation</td>\n",
       "      <td>39.0</td>\n",
       "      <td>31.0</td>\n",
       "      <td>40.0</td>\n",
       "      <td>39.0</td>\n",
       "      <td>51.0</td>\n",
       "      <td>not enrolled</td>\n",
       "      <td>0.0</td>\n",
       "      <td>1</td>\n",
       "    </tr>\n",
       "  </tbody>\n",
       "</table>\n",
       "</div>"
      ],
      "text/plain": [
       "      id  female     ses  schtyp      prog  read  write  math  science  socst  \\\n",
       "0   45.0  female     low  public  vocation  34.0   35.0  41.0     29.0   26.0   \n",
       "1  108.0    male  middle  public   general  34.0   33.0  41.0     36.0   36.0   \n",
       "2   15.0    male    high  public  vocation  39.0   39.0  44.0     26.0   42.0   \n",
       "3   67.0    male     low  public  vocation  37.0   37.0  42.0     33.0   32.0   \n",
       "4  153.0    male  middle  public  vocation  39.0   31.0  40.0     39.0   51.0   \n",
       "\n",
       "         honors  awards  cid  \n",
       "0  not enrolled     0.0    1  \n",
       "1  not enrolled     0.0    1  \n",
       "2  not enrolled     0.0    1  \n",
       "3  not enrolled     0.0    1  \n",
       "4  not enrolled     0.0    1  "
      ]
     },
     "execution_count": 2,
     "metadata": {},
     "output_type": "execute_result"
    }
   ],
   "source": [
    "orig_df = pd.read_stata('./hsbdemo.dta')\n",
    "orig_df.head()"
   ]
  },
  {
   "cell_type": "markdown",
   "metadata": {},
   "source": [
    "This fake dataset contains variables on 200 students. Our task is to predict `prog` or program type for each student. To simplify the problem, I will use two independent variables: `ses` or socio-economic status, and `write`, or the student's writing score.\n",
    "\n",
    "- `prog` is the dependent variable. There are three levels: vocation, general, academic\n",
    "- `ses` is an ordinal independent variable with three levels: low, middle, high\n",
    "- `write` is a continuous independent variable\n",
    "\n",
    "I'm going to implement both binary logistic regression and multinomial logistic regression. Thus, there will be two parts to this blog.\n",
    "\n",
    "Before I implement anything, however, I will preprocess the data by encoding `ses` and `prog`.\n",
    "\n",
    "### Encoding\n",
    "Why do we do this? To help our model in reading the data. Machine learning algorithms are built to take in numbers, not strings. So, we have to **encode** the data into numbers. This can be done using **one-hot-encoding**, which creates a boolean variable for each level of `ses`. Pandas' `get_dummies` function handles this for us."
   ]
  },
  {
   "cell_type": "code",
   "execution_count": 3,
   "metadata": {},
   "outputs": [],
   "source": [
    "orig_df = pd.get_dummies(orig_df, columns = ['ses'])"
   ]
  },
  {
   "cell_type": "markdown",
   "metadata": {},
   "source": [
    "For `prog`, I will encode it like so:\n",
    "- $y = 0$ when the student's program type is general. \n",
    "- $y = 1$ when the student's program type is vocational.  \n",
    "- $y = 2$ when the student's program type is academic. "
   ]
  },
  {
   "cell_type": "code",
   "execution_count": 4,
   "metadata": {},
   "outputs": [],
   "source": [
    "orig_df.replace({'prog': {'general': 0, 'vocation': 1, 'academic': 2}}, inplace = True)"
   ]
  },
  {
   "cell_type": "markdown",
   "metadata": {},
   "source": [
    "Now, let's start with implementing binary logistic regression. To do this, I'll remove all rows where `prog` is academic."
   ]
  },
  {
   "cell_type": "markdown",
   "metadata": {},
   "source": [
    "# Binary Logistic Regression "
   ]
  },
  {
   "cell_type": "markdown",
   "metadata": {},
   "source": [
    "### Hypothesis\n",
    "$$h_{\\theta}(x) = \\sigma(\\theta^Tx) = \\frac{1}{1 + e^{-\\theta^Tx}}$$\n",
    "\n",
    "### Cost Function\n",
    "$$J(\\theta) = \\frac{1}{n}[\\sum_{i = 1}^{n}-y^ilog(h_\\theta(x^i))+(1 - y^i)log(1 - h_\\theta(x^i))]$$\n",
    "\n",
    "where $n$ is the number of training samples.\n",
    "\n",
    "### Deriving Cost Function\n",
    "$$\\frac{\\partial{J(\\theta)}}{\\partial\\theta} = \\frac{1}{n}(h_\\theta(x) - y)x$$\n",
    "\n",
    "$$\\theta_j = \\theta_j - \\alpha\\frac{\\partial{J(\\theta)}}{\\partial\\theta}$$\n",
    "\n",
    "## Implementation from Scratch\n",
    "\n",
    "I will vectorize the implementations to speed up performance.\n",
    "\n",
    "- $X$: (95, 4)\n",
    "- $Y$: (95, 1)\n",
    "- $\\theta$: (4, 1)\n",
    "\n",
    "$$h = \\sigma(X\\theta)$$\n",
    "$$J(\\theta) = \\frac{1}{n} \\cdot (-y^Tlog(h)+(1 - y^T)log(1 - h))$$\n",
    "$$\\frac{\\partial{J(\\theta)}}{\\partial\\theta} = X^T\\cdot(preds - Y)$$"
   ]
  },
  {
   "cell_type": "code",
   "execution_count": 5,
   "metadata": {
    "scrolled": true
   },
   "outputs": [
    {
     "name": "stdout",
     "output_type": "stream",
     "text": [
      "(95, 5)\n"
     ]
    },
    {
     "data": {
      "text/html": [
       "<div>\n",
       "<style scoped>\n",
       "    .dataframe tbody tr th:only-of-type {\n",
       "        vertical-align: middle;\n",
       "    }\n",
       "\n",
       "    .dataframe tbody tr th {\n",
       "        vertical-align: top;\n",
       "    }\n",
       "\n",
       "    .dataframe thead th {\n",
       "        text-align: right;\n",
       "    }\n",
       "</style>\n",
       "<table border=\"1\" class=\"dataframe\">\n",
       "  <thead>\n",
       "    <tr style=\"text-align: right;\">\n",
       "      <th></th>\n",
       "      <th>prog</th>\n",
       "      <th>ses_low</th>\n",
       "      <th>ses_middle</th>\n",
       "      <th>ses_high</th>\n",
       "      <th>write</th>\n",
       "    </tr>\n",
       "  </thead>\n",
       "  <tbody>\n",
       "    <tr>\n",
       "      <th>0</th>\n",
       "      <td>1</td>\n",
       "      <td>1</td>\n",
       "      <td>0</td>\n",
       "      <td>0</td>\n",
       "      <td>35.0</td>\n",
       "    </tr>\n",
       "    <tr>\n",
       "      <th>1</th>\n",
       "      <td>0</td>\n",
       "      <td>0</td>\n",
       "      <td>1</td>\n",
       "      <td>0</td>\n",
       "      <td>33.0</td>\n",
       "    </tr>\n",
       "    <tr>\n",
       "      <th>2</th>\n",
       "      <td>1</td>\n",
       "      <td>0</td>\n",
       "      <td>0</td>\n",
       "      <td>1</td>\n",
       "      <td>39.0</td>\n",
       "    </tr>\n",
       "    <tr>\n",
       "      <th>3</th>\n",
       "      <td>1</td>\n",
       "      <td>1</td>\n",
       "      <td>0</td>\n",
       "      <td>0</td>\n",
       "      <td>37.0</td>\n",
       "    </tr>\n",
       "    <tr>\n",
       "      <th>4</th>\n",
       "      <td>1</td>\n",
       "      <td>0</td>\n",
       "      <td>1</td>\n",
       "      <td>0</td>\n",
       "      <td>31.0</td>\n",
       "    </tr>\n",
       "  </tbody>\n",
       "</table>\n",
       "</div>"
      ],
      "text/plain": [
       "   prog  ses_low  ses_middle  ses_high  write\n",
       "0     1        1           0         0   35.0\n",
       "1     0        0           1         0   33.0\n",
       "2     1        0           0         1   39.0\n",
       "3     1        1           0         0   37.0\n",
       "4     1        0           1         0   31.0"
      ]
     },
     "execution_count": 5,
     "metadata": {},
     "output_type": "execute_result"
    }
   ],
   "source": [
    "bi_df = orig_df[['prog', 'ses_low', 'ses_middle', 'ses_high', 'write']]\n",
    "bi_df = bi_df[bi_df['prog'] != 2]\n",
    "print(bi_df.shape)\n",
    "bi_df.head()"
   ]
  },
  {
   "cell_type": "code",
   "execution_count": 6,
   "metadata": {},
   "outputs": [],
   "source": [
    "def sigmoid(z):\n",
    "    \"\"\"\n",
    "    Computes the sigmoid function.\n",
    "    \"\"\"\n",
    "    return 1.0 / (1 + np.exp(-z))\n",
    "\n",
    "def bi_hypothesis(X, theta):\n",
    "    \"\"\"\n",
    "    Returns an array of probabilities that the class label is 1.\n",
    "    \"\"\"\n",
    "    return sigmoid(np.dot(X, theta))\n",
    "\n",
    "def bi_cost_function(preds, Y, N):\n",
    "    \"\"\"\n",
    "    Computes the cost function for binary logistic regression.\n",
    "    \"\"\"\n",
    "    class1_cost = -Y * np.log(preds)\n",
    "    class2_cost = (1 - Y) * np.log(1 - preds)\n",
    "    \n",
    "    cost = class1_cost + class2_cost\n",
    "    \n",
    "    return cost.sum() / N"
   ]
  },
  {
   "cell_type": "code",
   "execution_count": 7,
   "metadata": {
    "scrolled": true
   },
   "outputs": [],
   "source": [
    "# There are four features -> four parameters\n",
    "theta = np.array([0.0, 0.0, 0.0, 0.0]).reshape(4, 1)\n",
    "\n",
    "# Start training\n",
    "X = bi_df[['ses_low', 'ses_middle', 'ses_high', 'write']]\n",
    "Y = np.array(bi_df['prog']).reshape(len(X), 1)\n",
    "N = len(X)\n",
    "\n",
    "n_iters = 10000\n",
    "alpha = 0.00009\n",
    "\n",
    "costs = []\n",
    "\n",
    "for i in range(n_iters):\n",
    "    ### Predict\n",
    "    preds = bi_hypothesis(X, theta)\n",
    "\n",
    "    ### Calculate cost\n",
    "    cost = bi_cost_function(preds, Y, N)\n",
    "    costs.append(cost)\n",
    "\n",
    "    ### Gradient Descent\n",
    "    gradient = alpha * (1.0 / N) * np.dot(X.T, preds - Y)\n",
    "\n",
    "    theta -= gradient"
   ]
  },
  {
   "cell_type": "code",
   "execution_count": 8,
   "metadata": {},
   "outputs": [
    {
     "data": {
      "image/png": "[encoded data removed]",
      "text/plain": [
       "<Figure size 432x288 with 1 Axes>"
      ]
     },
     "metadata": {
      "needs_background": "light"
     },
     "output_type": "display_data"
    }
   ],
   "source": [
    "plt.plot(list(range(n_iters)), costs)\n",
    "plt.show()"
   ]
  },
  {
   "cell_type": "code",
   "execution_count": 9,
   "metadata": {},
   "outputs": [
    {
     "name": "stdout",
     "output_type": "stream",
     "text": [
      "[[-0.01848842]\n",
      " [ 0.04881776]\n",
      " [-0.009395  ]\n",
      " [-0.00012962]]\n"
     ]
    }
   ],
   "source": [
    "print(theta)"
   ]
  },
  {
   "cell_type": "markdown",
   "metadata": {},
   "source": [
    "## Using Statsmodels"
   ]
  },
  {
   "cell_type": "code",
   "execution_count": 10,
   "metadata": {},
   "outputs": [
    {
     "name": "stdout",
     "output_type": "stream",
     "text": [
      "Optimization terminated successfully.\n",
      "         Current function value: 0.649232\n",
      "         Iterations 5\n",
      "                           Logit Regression Results                           \n",
      "==============================================================================\n",
      "Dep. Variable:                   prog   No. Observations:                   95\n",
      "Model:                          Logit   Df Residuals:                       91\n",
      "Method:                           MLE   Df Model:                            3\n",
      "Date:                Fri, 26 Jun 2020   Pseudo R-squ.:                 0.06148\n",
      "Time:                        22:06:23   Log-Likelihood:                -61.677\n",
      "converged:                       True   LL-Null:                       -65.717\n",
      "Covariance Type:            nonrobust   LLR p-value:                   0.04437\n",
      "==============================================================================\n",
      "                 coef    std err          z      P>|z|      [0.025      0.975]\n",
      "------------------------------------------------------------------------------\n",
      "const          2.2091      1.195      1.849      0.065      -0.133       4.551\n",
      "ses_middle     0.7408      0.490      1.512      0.131      -0.220       1.701\n",
      "ses_high       0.2205      0.659      0.335      0.738      -1.071       1.512\n",
      "write         -0.0517      0.024     -2.199      0.028      -0.098      -0.006\n",
      "==============================================================================\n"
     ]
    }
   ],
   "source": [
    "# Exclude ses_low to make this column a baseline. \n",
    "# This prevents multicollinearity.\n",
    "X = bi_df[['ses_middle', 'ses_high', 'write']]\n",
    "\n",
    "y = bi_df['prog']\n",
    "\n",
    "bi_model = sm.Logit(y, sm.add_constant(X))\n",
    "bi_result = bi_model.fit()\n",
    "\n",
    "print(bi_result.summary())"
   ]
  },
  {
   "cell_type": "markdown",
   "metadata": {},
   "source": [
    "### Interpreting the results\n",
    "\n",
    "There's a lot to unpack here, so let's go one by one. \n",
    "\n",
    "#### Logit Recap\n",
    "In linear regression, it was easy to interpret what the coefficients meant. Logistic regression is a bit more difficult, as it requires us to understand what the log-odds are.\n",
    "\n",
    "Recall from the [first part](https://philliplagoc.wordpress.com/2020/06/24/my-take-on-logistic-regression-part-1/) that the log-odds is computed by:\n",
    "$$logit(p) = log\\frac{p}{1 - p}$$\n",
    "\n",
    "Again, we are simply taking the log of the odds (log-odds!), which allows us to transform the range from $[0, 1]$, which was what the hypothesis outputs, to a range from $[-\\infty, \\infty]$. There are other ways to do this transformation e.g., probit, but I'll cover that another time. \n",
    "\n",
    "In essence, **logistic regression models the logit-transformed probability as a linear relationship with the independent variables**:\n",
    "\n",
    "$$logit(p) = log\\frac{p}{1 - p} = \\beta_0 + \\beta_1X_1 + \\beta_2X_2$$\n",
    "\n",
    "Solving for $p$ brings us right back to the sigmoid function!\n",
    "\n",
    "$$\\frac{1-p}{p} = \\frac{1}{e^{\\beta_0 + \\beta_1X_1 + \\beta_2X_2}}$$\n",
    "\n",
    "$$\\frac{1}{p} = 1 + \\frac{1}{e^{\\beta_0 + \\beta_1X_1 + \\beta_2X_2}}$$\n",
    "\n",
    "$$\\frac{1}{p} = \\frac{1 + e^{\\beta_0 + \\beta_1X_1 + \\beta_2X_2}}{e^{\\beta_0 + \\beta_1X_1 + \\beta_2X_2}} = \\sigma(\\theta^Tx)$$\n",
    "\n",
    "$$p = \\frac{e^{\\beta_0 + \\beta_1X_1 + \\beta_2X_2}}{1 + e^{\\beta_0 + \\beta_1X_1 + \\beta_2X_2}} = \\sigma(\\theta^Tx)$$\n",
    "\n",
    "#### What do the coefficients mean?\n",
    "\n",
    "**Note: [This](https://stats.idre.ucla.edu/other/mult-pkg/faq/general/faq-how-do-i-interpret-odds-ratios-in-logistic-regression/) article was immensely helpful in understanding what these coefficients meant. Check [this](http://blog.yhat.com/posts/logistic-regression-and-python.html) article, too!**\n",
    "\n",
    "Each coefficient estimate is the expected change in the student's log-odds in the vocational program for each unit increase in the corresponding independent variable while holding the other variables constant.\n",
    "\n",
    "For every unit increase in the writing score, the log-odds will change by -0.05. The idea is the same as the other variables.\n",
    "\n",
    "Exponentiating these coefficient estimates will give us the odds of the student being in the vocational program."
   ]
  },
  {
   "cell_type": "code",
   "execution_count": 11,
   "metadata": {},
   "outputs": [
    {
     "name": "stdout",
     "output_type": "stream",
     "text": [
      "const         9.107444\n",
      "ses_middle    2.097511\n",
      "ses_high      1.246751\n",
      "write         0.949620\n",
      "dtype: float64\n"
     ]
    }
   ],
   "source": [
    "print(np.exp(bi_result.params))"
   ]
  },
  {
   "cell_type": "markdown",
   "metadata": {},
   "source": [
    "For example, we can expect the odds of a student being in the vocational program to **decrease** by about 0.95% for every unit increase in their writing score. \n",
    "\n",
    "We can also expect that, if the student has a socioeconomic status categorized as 'middle', the odds of the student being in the vocational program **increases** by about 109%."
   ]
  },
  {
   "cell_type": "markdown",
   "metadata": {},
   "source": [
    "# Multinomial Logistic Regression\n",
    "\n",
    "I will delve into how to implement multinomial logistic regression by hand sometime in the future. For now, `statsmodels` can let us solve multinomial logistic regression problems."
   ]
  },
  {
   "cell_type": "code",
   "execution_count": 12,
   "metadata": {},
   "outputs": [
    {
     "name": "stdout",
     "output_type": "stream",
     "text": [
      "(200, 5)\n"
     ]
    },
    {
     "data": {
      "text/html": [
       "<div>\n",
       "<style scoped>\n",
       "    .dataframe tbody tr th:only-of-type {\n",
       "        vertical-align: middle;\n",
       "    }\n",
       "\n",
       "    .dataframe tbody tr th {\n",
       "        vertical-align: top;\n",
       "    }\n",
       "\n",
       "    .dataframe thead th {\n",
       "        text-align: right;\n",
       "    }\n",
       "</style>\n",
       "<table border=\"1\" class=\"dataframe\">\n",
       "  <thead>\n",
       "    <tr style=\"text-align: right;\">\n",
       "      <th></th>\n",
       "      <th>prog</th>\n",
       "      <th>ses_low</th>\n",
       "      <th>ses_middle</th>\n",
       "      <th>ses_high</th>\n",
       "      <th>write</th>\n",
       "    </tr>\n",
       "  </thead>\n",
       "  <tbody>\n",
       "    <tr>\n",
       "      <th>0</th>\n",
       "      <td>1</td>\n",
       "      <td>1</td>\n",
       "      <td>0</td>\n",
       "      <td>0</td>\n",
       "      <td>35.0</td>\n",
       "    </tr>\n",
       "    <tr>\n",
       "      <th>1</th>\n",
       "      <td>0</td>\n",
       "      <td>0</td>\n",
       "      <td>1</td>\n",
       "      <td>0</td>\n",
       "      <td>33.0</td>\n",
       "    </tr>\n",
       "    <tr>\n",
       "      <th>2</th>\n",
       "      <td>1</td>\n",
       "      <td>0</td>\n",
       "      <td>0</td>\n",
       "      <td>1</td>\n",
       "      <td>39.0</td>\n",
       "    </tr>\n",
       "    <tr>\n",
       "      <th>3</th>\n",
       "      <td>1</td>\n",
       "      <td>1</td>\n",
       "      <td>0</td>\n",
       "      <td>0</td>\n",
       "      <td>37.0</td>\n",
       "    </tr>\n",
       "    <tr>\n",
       "      <th>4</th>\n",
       "      <td>1</td>\n",
       "      <td>0</td>\n",
       "      <td>1</td>\n",
       "      <td>0</td>\n",
       "      <td>31.0</td>\n",
       "    </tr>\n",
       "  </tbody>\n",
       "</table>\n",
       "</div>"
      ],
      "text/plain": [
       "   prog  ses_low  ses_middle  ses_high  write\n",
       "0     1        1           0         0   35.0\n",
       "1     0        0           1         0   33.0\n",
       "2     1        0           0         1   39.0\n",
       "3     1        1           0         0   37.0\n",
       "4     1        0           1         0   31.0"
      ]
     },
     "execution_count": 12,
     "metadata": {},
     "output_type": "execute_result"
    }
   ],
   "source": [
    "mn_df = orig_df[['prog', 'ses_low', 'ses_middle', 'ses_high', 'write']]\n",
    "print(mn_df.shape)\n",
    "mn_df.head()"
   ]
  },
  {
   "cell_type": "markdown",
   "metadata": {},
   "source": [
    "## Using Statsmodels"
   ]
  },
  {
   "cell_type": "code",
   "execution_count": 13,
   "metadata": {},
   "outputs": [
    {
     "name": "stdout",
     "output_type": "stream",
     "text": [
      "Optimization terminated successfully.\n",
      "         Current function value: 0.899909\n",
      "         Iterations 6\n",
      "                          MNLogit Regression Results                          \n",
      "==============================================================================\n",
      "Dep. Variable:                   prog   No. Observations:                  200\n",
      "Model:                        MNLogit   Df Residuals:                      192\n",
      "Method:                           MLE   Df Model:                            6\n",
      "Date:                Fri, 26 Jun 2020   Pseudo R-squ.:                  0.1182\n",
      "Time:                        22:06:23   Log-Likelihood:                -179.98\n",
      "converged:                       True   LL-Null:                       -204.10\n",
      "Covariance Type:            nonrobust   LLR p-value:                 1.063e-08\n",
      "==============================================================================\n",
      "    prog=1       coef    std err          z      P>|z|      [0.025      0.975]\n",
      "------------------------------------------------------------------------------\n",
      "const          2.3660      1.174      2.015      0.044       0.065       4.667\n",
      "ses_middle     0.8247      0.490      1.683      0.092      -0.136       1.785\n",
      "ses_high       0.1802      0.648      0.278      0.781      -1.091       1.451\n",
      "write         -0.0557      0.023     -2.386      0.017      -0.101      -0.010\n",
      "------------------------------------------------------------------------------\n",
      "    prog=2       coef    std err          z      P>|z|      [0.025      0.975]\n",
      "------------------------------------------------------------------------------\n",
      "const         -2.8522      1.166     -2.445      0.014      -5.138      -0.566\n",
      "ses_middle     0.5333      0.444      1.202      0.229      -0.336       1.403\n",
      "ses_high       1.1628      0.514      2.261      0.024       0.155       2.171\n",
      "write          0.0579      0.021      2.706      0.007       0.016       0.100\n",
      "==============================================================================\n"
     ]
    }
   ],
   "source": [
    "# Exclude ses_low to make this column a baseline. \n",
    "# This prevents multicollinearity.\n",
    "X = mn_df[['ses_middle', 'ses_high', 'write']]\n",
    "\n",
    "y = mn_df['prog']\n",
    "\n",
    "mn_model = sm.MNLogit(y, sm.add_constant(X))\n",
    "mn_result = mn_model.fit()\n",
    "\n",
    "print(mn_result.summary())"
   ]
  },
  {
   "cell_type": "code",
   "execution_count": 16,
   "metadata": {},
   "outputs": [
    {
     "name": "stdout",
     "output_type": "stream",
     "text": [
      "                    0         1\n",
      "const       10.654837  0.057718\n",
      "ses_middle   2.281160  1.704533\n",
      "ses_high     1.197411  3.198980\n",
      "write        0.945847  1.059639\n"
     ]
    }
   ],
   "source": [
    "print(np.exp(mn_result.params))"
   ]
  },
  {
   "cell_type": "markdown",
   "metadata": {},
   "source": [
    "### Interpreting the Results\n",
    "\n",
    "**Note: [This](https://stats.idre.ucla.edu/stata/output/multinomial-logistic-regression-2/) is a really good article for interpreting the coefficients!**\n",
    "\n",
    "You can see that there are two distinct rows, one signified by `prog=1` and another by `prog=2`. Multinomial logistic regression works by estimating $k - 1$ models, where $k$ is the number of levels in the dependent variable. \n",
    "\n",
    "Here, the base group is the general program type i.e., $y = 0$.\n",
    "\n",
    "Each row represents the two models that are estimated: vocational program type relative to general program type, and academic program type relative to general program type.\n",
    "\n",
    "In general, the coefficient estimates represent that for a unit change in the respective predictor, the logit of the respective outcome (vocational or academic program type) relative to the general program type is expected to change by however much the coefficient estimate is given the other variables are held constant. \n",
    "\n",
    "So, let's unpack some of these coefficients for `prog=1`. \n",
    "- If the student has a socioeconomic status of middle i.e., `ses_middle`, then the log-odds of that student being in the vocational program type relative to the general program type would increase by 0.8247. In other words, the odds for that student would **increase** by about 128%. \n",
    "- `write` has an estimate of -0.0557. The log-odds would decrease by 0.0557. When exponentiated, this becomes 0.945. So, for every unit increase in the student's writing score, the odds of that student being in the vocational program type relative to the general program type would **decrease** by about 0.95%. \n",
    "\n",
    "And again, it's the same idea with `prog=2`.\n"
   ]
  },
  {
   "cell_type": "markdown",
   "metadata": {},
   "source": [
    "# Evaluating the results\n",
    "\n",
    "There are many different ways to evaluate the results of a logistic regression model. I'll go over two ways: a confusion matrix, and a ROC Curve.\n",
    "\n",
    "## Confusion Matrix\n",
    "\n",
    "A confusion matrix is a matrix that summarizes the performance of a classification algorithm. It is a $N$x$N$ matrix, where $N$ is the number of classes.\n",
    "\n",
    "For simplicity, let's look at the confusion matrix for our binary logistic regression, and compare how my model from scratch compares with `statsmodels`. \n",
    "\n",
    "The confusion matrix would look something like this:\n",
    "\n",
    "|                 \t| Predicted Positive            \t| Predicted Negative             \t|\n",
    "|-----------------\t|-------------------------------\t|--------------------------------\t|\n",
    "| Actual Positive P\t| True Positive                 \t| False Negative (Type II Error) \t|\n",
    "| Actual Negative N\t| False Positive (Type I Error) \t| True Negative                  \t|\n",
    "\n",
    "\n",
    "This matrix allows us to compute more metrics:\n",
    "\n",
    "- **Accuracy**: $\\frac{TP + TN}{P + N}$\n",
    "    - Proportion of correct predictions in the entire data.\n",
    "- **Precision**: $\\frac{TP}{TP + FP}$\n",
    "    - Of all the positive predictions, how many were right?\n",
    "- **Specificity**: $\\frac{TN}{TN + FN}$\n",
    "    - Of all the negative predictions, how many were right?\n",
    "- **Recall/ Sensitivity**: $\\frac{TP}{TP + FN}$\n",
    "    - Of all the positive samples, how many were predicted correctly?\n",
    "- **F1 Score**: $2 \\cdot \\frac{prec. * recall}{prec. + recall}$\n",
    "    - Considering both precision and recall.\n",
    "    - Very useful for imbalanced data.\n",
    "    \n",
    "Let's calculate these metrics!\n",
    "\n",
    "### My Logistic Regression Model"
   ]
  },
  {
   "cell_type": "code",
   "execution_count": 17,
   "metadata": {
    "scrolled": true
   },
   "outputs": [],
   "source": [
    "def decision_boundary(x, threshold = 0.5):\n",
    "    \"\"\"\n",
    "    Returns the classification of the sample for a given threshold\n",
    "    \"\"\"\n",
    "    return 1 if x >= threshold else 0\n",
    "\n",
    "# Deal with model from scratch\n",
    "X = bi_df[['ses_low', 'ses_middle', 'ses_high', 'write']]\n",
    "scratch_probs = bi_hypothesis(X, theta)\n",
    "\n",
    "scratch_preds = []\n",
    "for prob in scratch_probs:\n",
    "    scratch_preds.append(decision_boundary(prob))\n",
    "\n",
    "# Compare predictions and actuals\n",
    "tp = 0\n",
    "tn = 0\n",
    "fp = 0\n",
    "fn = 0\n",
    "for ind, y in enumerate(Y.flatten()):\n",
    "    if y == 1 and y == scratch_preds[ind]:\n",
    "        tp += 1\n",
    "    elif y == 0 and y == scratch_preds[ind]:\n",
    "        tn += 1\n",
    "    elif y == 1 and scratch_preds[ind] == 0:\n",
    "        fn += 1\n",
    "    elif y == 0 and scratch_preds[ind] == 1:\n",
    "        fp += 1"
   ]
  },
  {
   "cell_type": "code",
   "execution_count": 18,
   "metadata": {},
   "outputs": [
    {
     "name": "stdout",
     "output_type": "stream",
     "text": [
      "True Positives: 31\n",
      "True Negatives: 25\n",
      "False Positives: 20\n",
      "False Negatives: 19\n"
     ]
    }
   ],
   "source": [
    "print('True Positives: %d' % tp)\n",
    "print('True Negatives: %d' % tn)\n",
    "print('False Positives: %d' % fp)\n",
    "print('False Negatives: %d' % fn)"
   ]
  },
  {
   "cell_type": "code",
   "execution_count": 19,
   "metadata": {},
   "outputs": [
    {
     "name": "stdout",
     "output_type": "stream",
     "text": [
      "Accuracy: 0.59\n",
      "Precision: 0.61\n",
      "Specificity: 0.57\n",
      "Recall/ Sensitivity: 0.62\n",
      "F1 Score: 0.61\n"
     ]
    }
   ],
   "source": [
    "print('Accuracy: %.2f' %  ((tp + tn) / len(X))  )\n",
    "print('Precision: %.2f' % (tp / (tp + fp)) )\n",
    "print('Specificity: %.2f' % (tn / (tn + fn)) )\n",
    "print('Recall/ Sensitivity: %.2f' % (tp / (tp + fn)) )\n",
    "print('F1 Score: %.2f' % ( 2 * (tp / ((tp + fp)) * (tp / (tp + fn))) / (tp / ((tp + fp)) + (tp / (tp + fn))) ) )"
   ]
  },
  {
   "cell_type": "markdown",
   "metadata": {},
   "source": [
    "### `statsmodels` Logistic Regression Model"
   ]
  },
  {
   "cell_type": "code",
   "execution_count": 20,
   "metadata": {},
   "outputs": [
    {
     "name": "stdout",
     "output_type": "stream",
     "text": [
      "[[27. 18.]\n",
      " [15. 35.]]\n"
     ]
    }
   ],
   "source": [
    "bi_conf_mat = bi_result.pred_table()\n",
    "print(bi_conf_mat)"
   ]
  },
  {
   "cell_type": "markdown",
   "metadata": {},
   "source": [
    "According to the documentation, `pred_table[i, j]` refers to the number of times that class `i` was observed and the model predicted class `j`. Correct predictions are along the diagonal.\n",
    "\n",
    "Columns represent `j`, or the predicted values. The first column means the model predicted class 0, and the second column means that the model predicted class 1. \n",
    "\n",
    "Rows represent `i`, or the actual values. The first row means the sample is class 0, and the second row means that the sample is class 1."
   ]
  },
  {
   "cell_type": "code",
   "execution_count": 21,
   "metadata": {},
   "outputs": [
    {
     "name": "stdout",
     "output_type": "stream",
     "text": [
      "True Positives: 35\n",
      "True Negatives: 27\n",
      "False Positives: 18\n",
      "False Negatives: 15\n"
     ]
    }
   ],
   "source": [
    "bi_tp = bi_conf_mat[1, 1]\n",
    "bi_tn = bi_conf_mat[0, 0]\n",
    "bi_fp = bi_conf_mat[0, 1]\n",
    "bi_fn = bi_conf_mat[1, 0]\n",
    "print('True Positives: %d' % bi_tp)\n",
    "print('True Negatives: %d' % bi_tn)\n",
    "print('False Positives: %d' % bi_fp)\n",
    "print('False Negatives: %d' % bi_fn)"
   ]
  },
  {
   "cell_type": "code",
   "execution_count": 22,
   "metadata": {},
   "outputs": [
    {
     "name": "stdout",
     "output_type": "stream",
     "text": [
      "Accuracy: 0.65\n",
      "Precision: 0.66\n",
      "Specificity: 0.64\n",
      "Recall/ Sensitivity: 0.70\n",
      "F1 Score: 0.68\n"
     ]
    }
   ],
   "source": [
    "print('Accuracy: %.2f' %  ((bi_tp + bi_tn) / len(X))  )\n",
    "print('Precision: %.2f' % (bi_tp / (bi_tp + bi_fp)) )\n",
    "print('Specificity: %.2f' % (bi_tn / (bi_tn + bi_fn)) )\n",
    "print('Recall/ Sensitivity: %.2f' % (bi_tp / (bi_tp + bi_fn)) )\n",
    "print('F1 Score: %.2f' % ( 2 * (bi_tp / ((bi_tp + bi_fp)) * (bi_tp / (bi_tp + bi_fn))) / (bi_tp / ((bi_tp + bi_fp)) + (bi_tp / (bi_tp + bi_fn))) ) )"
   ]
  },
  {
   "cell_type": "markdown",
   "metadata": {},
   "source": [
    "## ROC Curve\n",
    "\n",
    "What if we changed the threshold? If we were to alter our threshold, then our predictions would change. For example, increasing our threshold would increase specificity and decrease our recall. In other words, it would be harder for our model to make positive predictions.\n",
    "\n",
    "If we decreased our threshold, then the exact opposite would happen: our model would have an easier time making positive predictions.\n",
    "\n",
    "Why would you change the threshold? It depends on the problem. For instance, say we wanted a model that could predict whether or not a patient has cancer. Therefore, false negatives are really, really bad. We don't want to say a patient doesn't have cancer when in fact they do. So, we'd decrease the threshold. We'd be making more false positives, but our recall would increase and false positives aren't as terrible as false negatives. \n",
    "\n",
    "We can visually see the impact of changing the threshold using a ROC Curve. Let's do that for the `statsmodels` logistic regression model."
   ]
  },
  {
   "cell_type": "code",
   "execution_count": 23,
   "metadata": {},
   "outputs": [
    {
     "data": {
      "image/png": "[encoded data removed]",
      "text/plain": [
       "<Figure size 432x288 with 1 Axes>"
      ]
     },
     "metadata": {
      "needs_background": "light"
     },
     "output_type": "display_data"
    },
    {
     "name": "stdout",
     "output_type": "stream",
     "text": [
      "Area Under Curve: 0.67\n"
     ]
    }
   ],
   "source": [
    "from sklearn.metrics import roc_curve, roc_auc_score, plot_roc_curve\n",
    "\n",
    "X = bi_df[['ses_middle', 'ses_high', 'write']]\n",
    "probs = bi_result.predict(sm.add_constant(X))\n",
    "\n",
    "# Get fpr, tpr, and thresholds\n",
    "fpr, tpr, thresholds = roc_curve(Y, probs)\n",
    "\n",
    "plt.plot(fpr, tpr)\n",
    "\n",
    "plt.show()\n",
    "\n",
    "print(\"Area Under Curve: %.2f\" % roc_auc_score(Y, probs))"
   ]
  },
  {
   "cell_type": "markdown",
   "metadata": {},
   "source": [
    "The ROC Curve is based on the True Positive Rate (TPR) on the Y-axis, and False Positive Rate (FPR) on the X-axis. \n",
    "\n",
    "- TPR/ Recall/ Sensitivity\n",
    "    - $\\frac{TP}{TP + FN}$\n",
    "    \n",
    "- FPR\n",
    "    - $1 -$ Specificity $= \\frac{FP}{TN + FP}$\n",
    "    - Of all the negative samples, how many did we predict wrong?\n",
    "\n",
    "This table shows what happens when we change threshold:\n",
    "\n",
    "| Threshold \t| Recall/ TPR \t| Specificity \t| FPR = 1 - Specificity \t|\n",
    "|-----------\t|-------------\t|-------------\t|-----------------------\t|\n",
    "| Increase  \t| Decrease    \t| Increase    \t| Decrease              \t|\n",
    "| Decrease  \t| Increase    \t| Decrease    \t| Increase              \t|\n",
    "\n",
    "\n",
    "The area under the curve tells us how much our model is capable of distinguishing between classes. In this case, it is 0.67. That means there is a 67% chance that the model will be able to distinguish between the positive and negative class. "
   ]
  }
 ],
 "metadata": {
  "kernelspec": {
   "display_name": "Python 3",
   "language": "python",
   "name": "python3"
  },
  "language_info": {
   "codemirror_mode": {
    "name": "ipython",
    "version": 3
   },
   "file_extension": ".py",
   "mimetype": "text/x-python",
   "name": "python",
   "nbconvert_exporter": "python",
   "pygments_lexer": "ipython3",
   "version": "3.7.3"
  }
 },
 "nbformat": 4,
 "nbformat_minor": 4
}
